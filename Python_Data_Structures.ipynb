{
  "nbformat": 4,
  "nbformat_minor": 0,
  "metadata": {
    "kernelspec": {
      "display_name": "Python 3",
      "language": "python",
      "name": "python3"
    },
    "language_info": {
      "codemirror_mode": {
        "name": "ipython",
        "version": 3
      },
      "file_extension": ".py",
      "mimetype": "text/x-python",
      "name": "python",
      "nbconvert_exporter": "python",
      "pygments_lexer": "ipython3",
      "version": "3.8.5"
    },
    "colab": {
      "name": "Python Data Structures",
      "provenance": [],
      "collapsed_sections": [],
      "include_colab_link": true
    }
  },
  "cells": [
    {
      "cell_type": "markdown",
      "metadata": {
        "id": "view-in-github",
        "colab_type": "text"
      },
      "source": [
        "<a href=\"https://colab.research.google.com/github/gabgallard/hello-world/blob/master/Python_Data_Structures.ipynb\" target=\"_parent\"><img src=\"https://colab.research.google.com/assets/colab-badge.svg\" alt=\"Open In Colab\"/></a>"
      ]
    },
    {
      "cell_type": "code",
      "metadata": {
        "colab": {
          "base_uri": "https://localhost:8080/",
          "height": 131
        },
        "id": "IJS007L16Z1n",
        "outputId": "da417859-e0d5-4727-aa71-47fadf97664c"
      },
      "source": [
        "if True:\n",
        "asd    \n",
        "\n"
      ],
      "execution_count": null,
      "outputs": [
        {
          "output_type": "error",
          "ename": "IndentationError",
          "evalue": "ignored",
          "traceback": [
            "\u001b[0;36m  File \u001b[0;32m\"<ipython-input-1-2f5a5ca37896>\"\u001b[0;36m, line \u001b[0;32m2\u001b[0m\n\u001b[0;31m    asd\u001b[0m\n\u001b[0m      ^\u001b[0m\n\u001b[0;31mIndentationError\u001b[0m\u001b[0;31m:\u001b[0m expected an indented block\n"
          ]
        }
      ]
    },
    {
      "cell_type": "markdown",
      "metadata": {
        "id": "WuRKoPbvzC0c"
      },
      "source": [
        "## Lists"
      ]
    },
    {
      "cell_type": "markdown",
      "metadata": {
        "id": "fQBKodfXzC0c"
      },
      "source": [
        "Lists are the most commonly used data structure. Think of it as a sequence of data that is enclosed in square brackets and data are separated by a comma. Each of these data can be accessed by calling it's index value.\n",
        "\n",
        "Lists are declared by just equating a variable to '[ ]' or list."
      ]
    },
    {
      "cell_type": "code",
      "metadata": {
        "jupyter": {
          "outputs_hidden": false
        },
        "id": "boHBe4iVzC0d"
      },
      "source": [
        "a = []"
      ],
      "execution_count": null,
      "outputs": []
    },
    {
      "cell_type": "code",
      "metadata": {
        "jupyter": {
          "outputs_hidden": false
        },
        "id": "n5sCXbYhzC0d",
        "outputId": "8e95fb0a-e444-422f-8ce3-e7df2b4a2046"
      },
      "source": [
        "type(a)"
      ],
      "execution_count": null,
      "outputs": [
        {
          "output_type": "execute_result",
          "data": {
            "text/plain": [
              "list"
            ]
          },
          "metadata": {
            "tags": []
          },
          "execution_count": 2
        }
      ]
    },
    {
      "cell_type": "markdown",
      "metadata": {
        "id": "La9jEYNSzC0e"
      },
      "source": [
        "One can directly assign the sequence of data to a list x as shown."
      ]
    },
    {
      "cell_type": "code",
      "metadata": {
        "jupyter": {
          "outputs_hidden": false
        },
        "id": "sU-AF42vzC0e"
      },
      "source": [
        "x = ['apple', 'orange']"
      ],
      "execution_count": null,
      "outputs": []
    },
    {
      "cell_type": "markdown",
      "metadata": {
        "id": "_Cy_sIw8zC0e"
      },
      "source": [
        "### Indexing"
      ]
    },
    {
      "cell_type": "markdown",
      "metadata": {
        "id": "cS4j9L7BzC0f"
      },
      "source": [
        "In python, Indexing starts from 0. Thus now the list x, which has two elements will have apple at 0 index and orange at 1 index."
      ]
    },
    {
      "cell_type": "code",
      "metadata": {
        "jupyter": {
          "outputs_hidden": false
        },
        "id": "hNXJ4TxSzC0f",
        "outputId": "5e6c4ac8-b3bd-4287-dac7-56b5c3acc6bf"
      },
      "source": [
        "x[0]"
      ],
      "execution_count": null,
      "outputs": [
        {
          "output_type": "execute_result",
          "data": {
            "text/plain": [
              "'apple'"
            ]
          },
          "metadata": {
            "tags": []
          },
          "execution_count": 4
        }
      ]
    },
    {
      "cell_type": "markdown",
      "metadata": {
        "id": "K10rlpoKzC0f"
      },
      "source": [
        "Indexing can also be done in reverse order. That is the last element can be accessed first. Here, indexing starts from -1. Thus index value -1 will be orange and index -2 will be apple."
      ]
    },
    {
      "cell_type": "code",
      "metadata": {
        "jupyter": {
          "outputs_hidden": false
        },
        "id": "CSCL8q8IzC0f",
        "outputId": "2706d938-2b77-42da-fd27-4799d015daf4"
      },
      "source": [
        "x[-1]"
      ],
      "execution_count": null,
      "outputs": [
        {
          "output_type": "execute_result",
          "data": {
            "text/plain": [
              "'orange'"
            ]
          },
          "metadata": {
            "tags": []
          },
          "execution_count": 5
        }
      ]
    },
    {
      "cell_type": "markdown",
      "metadata": {
        "id": "7KLW-9TlzC0g"
      },
      "source": [
        "As you might have already guessed, x[0] = x[-2], x[1] = x[-1]. This concept can be extended towards lists with more many elements."
      ]
    },
    {
      "cell_type": "code",
      "metadata": {
        "jupyter": {
          "outputs_hidden": false
        },
        "id": "-gqmRxcXzC0g"
      },
      "source": [
        "y = ['carrot','potato']"
      ],
      "execution_count": null,
      "outputs": []
    },
    {
      "cell_type": "markdown",
      "metadata": {
        "id": "4M1EjB0VzC0i"
      },
      "source": [
        "### Slicing"
      ]
    },
    {
      "cell_type": "markdown",
      "metadata": {
        "id": "PaN5LZ58zC0i"
      },
      "source": [
        "Indexing was only limited to accessing a single element, Slicing on the other hand is accessing a sequence of data inside the list. In other words \"slicing\" the list.\n",
        "\n",
        "Slicing is done by defining the index values of the first element and the last element from the parent list that is required in the sliced list. It is written as parentlist[ a : b ] where a,b are the index values from the parent list. If a or b is not defined then the index value is considered to be the first value for a if a is not defined and the last value for b when b is not defined."
      ]
    },
    {
      "cell_type": "code",
      "metadata": {
        "id": "nY4x8PddzC0i"
      },
      "source": [
        "num = [0,1,2,3,4,5,6,7,8,9]"
      ],
      "execution_count": null,
      "outputs": []
    },
    {
      "cell_type": "code",
      "metadata": {
        "jupyter": {
          "outputs_hidden": false
        },
        "id": "ySSkiC_6zC0i",
        "outputId": "4665d3c4-d866-4437-a1cb-2129df8c2c57"
      },
      "source": [
        "num[0:4]"
      ],
      "execution_count": null,
      "outputs": [
        {
          "output_type": "execute_result",
          "data": {
            "text/plain": [
              "[0, 1, 2, 3]"
            ]
          },
          "metadata": {
            "tags": []
          },
          "execution_count": 15
        }
      ]
    },
    {
      "cell_type": "code",
      "metadata": {
        "id": "ahCt93IbzC0j",
        "outputId": "bbae8a15-b2a5-4d9a-d640-3c3981764e63"
      },
      "source": [
        "num[:4]"
      ],
      "execution_count": null,
      "outputs": [
        {
          "output_type": "execute_result",
          "data": {
            "text/plain": [
              "[0, 1, 2, 3]"
            ]
          },
          "metadata": {
            "tags": []
          },
          "execution_count": 17
        }
      ]
    },
    {
      "cell_type": "code",
      "metadata": {
        "id": "jyOq94xXzC0j",
        "outputId": "ec9dc6d4-f5d4-4269-9cde-1094a1e6240c"
      },
      "source": [
        "num[4:]"
      ],
      "execution_count": null,
      "outputs": [
        {
          "output_type": "execute_result",
          "data": {
            "text/plain": [
              "[4, 5, 6, 7, 8, 9]"
            ]
          },
          "metadata": {
            "tags": []
          },
          "execution_count": 18
        }
      ]
    },
    {
      "cell_type": "markdown",
      "metadata": {
        "id": "GRbuquVbzC0j"
      },
      "source": [
        "You can also slice a parent list with a fixed length or step length."
      ]
    },
    {
      "cell_type": "code",
      "metadata": {
        "jupyter": {
          "outputs_hidden": false
        },
        "id": "b0cGdOhnzC0j",
        "outputId": "d4a9906b-4754-4c74-f1a5-bd3f602cbab7"
      },
      "source": [
        "num[:9:3]"
      ],
      "execution_count": null,
      "outputs": [
        {
          "output_type": "execute_result",
          "data": {
            "text/plain": [
              "[0, 3, 6]"
            ]
          },
          "metadata": {
            "tags": []
          },
          "execution_count": 16
        }
      ]
    },
    {
      "cell_type": "markdown",
      "metadata": {
        "id": "G_krLQ2vzC0k"
      },
      "source": [
        "### Built in List Functions"
      ]
    },
    {
      "cell_type": "markdown",
      "metadata": {
        "id": "XqXfdh7GzC0k"
      },
      "source": [
        "To find the length of the list or the number of elements in a list, **len( )** is used."
      ]
    },
    {
      "cell_type": "code",
      "metadata": {
        "jupyter": {
          "outputs_hidden": false
        },
        "id": "WF_51fL5zC0k",
        "outputId": "5420107e-e351-440b-a766-23bd958151fb"
      },
      "source": [
        "len(num)"
      ],
      "execution_count": null,
      "outputs": [
        {
          "output_type": "execute_result",
          "data": {
            "text/plain": [
              "10"
            ]
          },
          "metadata": {
            "tags": []
          },
          "execution_count": 19
        }
      ]
    },
    {
      "cell_type": "markdown",
      "metadata": {
        "id": "CkDZmDCJzC0k"
      },
      "source": [
        "If the list consists of all integer elements then **min( )** and **max( )** gives the minimum and maximum value in the list."
      ]
    },
    {
      "cell_type": "code",
      "metadata": {
        "jupyter": {
          "outputs_hidden": false
        },
        "id": "HappO4k8zC0k",
        "outputId": "22d193d7-a544-409e-8778-b44dcc9d1534"
      },
      "source": [
        "min(num)"
      ],
      "execution_count": null,
      "outputs": [
        {
          "output_type": "execute_result",
          "data": {
            "text/plain": [
              "0"
            ]
          },
          "metadata": {
            "tags": []
          },
          "execution_count": 20
        }
      ]
    },
    {
      "cell_type": "code",
      "metadata": {
        "jupyter": {
          "outputs_hidden": false
        },
        "id": "PU4xA8iOzC0k",
        "outputId": "d57430ca-4c07-4392-b970-5cb2ed3091dd"
      },
      "source": [
        "max(num)"
      ],
      "execution_count": null,
      "outputs": [
        {
          "output_type": "execute_result",
          "data": {
            "text/plain": [
              "9"
            ]
          },
          "metadata": {
            "tags": []
          },
          "execution_count": 21
        }
      ]
    },
    {
      "cell_type": "markdown",
      "metadata": {
        "id": "JTsiCVTOzC0l"
      },
      "source": [
        "Lists can be concatenated by adding, '+' them. The resultant list will contain all the elements of the lists that were added. The resultant list will not be a nested list."
      ]
    },
    {
      "cell_type": "code",
      "metadata": {
        "jupyter": {
          "outputs_hidden": false
        },
        "id": "N6f-gAyrzC0l",
        "outputId": "9ada038e-488f-4cd8-c21b-f04cadc4eb07"
      },
      "source": [
        "[1,2,3] + [5,4,7]"
      ],
      "execution_count": null,
      "outputs": [
        {
          "output_type": "execute_result",
          "data": {
            "text/plain": [
              "[1, 2, 3, 5, 4, 7]"
            ]
          },
          "metadata": {
            "tags": []
          },
          "execution_count": 22
        }
      ]
    },
    {
      "cell_type": "markdown",
      "metadata": {
        "id": "-qc3U6fYzC0w"
      },
      "source": [
        "## Tuples"
      ]
    },
    {
      "cell_type": "markdown",
      "metadata": {
        "id": "RFYJMDJhzC0w"
      },
      "source": [
        "Tuples are similar to lists but only big difference is the elements inside a list can be changed but in tuple it cannot be changed. Think of tuples as something which has to be True for a particular something and cannot be True for no other values. For better understanding, Recall **divmod()** function."
      ]
    },
    {
      "cell_type": "code",
      "metadata": {
        "jupyter": {
          "outputs_hidden": false
        },
        "id": "6_GzPK0GzC0w",
        "outputId": "65310a36-bcd1-4740-80df-39156022f369"
      },
      "source": [
        "xyz = divmod(10,3)\n",
        "xyz"
      ],
      "execution_count": null,
      "outputs": [
        {
          "output_type": "execute_result",
          "data": {
            "text/plain": [
              "(3, 1)"
            ]
          },
          "metadata": {
            "tags": []
          },
          "execution_count": 65
        }
      ]
    },
    {
      "cell_type": "markdown",
      "metadata": {
        "id": "AMZRafIJzC0x"
      },
      "source": [
        "Here the quotient has to be 3 and the remainder has to be 1. These values cannot be changed whatsoever when 10 is divided by 3. Hence divmod returns these values in a tuple."
      ]
    },
    {
      "cell_type": "markdown",
      "metadata": {
        "id": "ECTr78-NzC0x"
      },
      "source": [
        "To define a tuple, A variable is assigned to paranthesis ( ) or tuple( )."
      ]
    },
    {
      "cell_type": "code",
      "metadata": {
        "jupyter": {
          "outputs_hidden": false
        },
        "id": "gY0tnyznzC0x"
      },
      "source": [
        "tup = ()\n",
        "tup2 = tuple()"
      ],
      "execution_count": null,
      "outputs": []
    },
    {
      "cell_type": "markdown",
      "metadata": {
        "id": "dveZCeAhzC0x"
      },
      "source": [
        "If you want to directly declare a tuple it can be done by using a comma at the end of the data."
      ]
    },
    {
      "cell_type": "code",
      "metadata": {
        "jupyter": {
          "outputs_hidden": false
        },
        "id": "Xgja7ZnwzC0x",
        "outputId": "a6131757-b02b-4970-fe20-69afe0990d44"
      },
      "source": [
        "27,"
      ],
      "execution_count": null,
      "outputs": [
        {
          "output_type": "execute_result",
          "data": {
            "text/plain": [
              "(27,)"
            ]
          },
          "metadata": {
            "tags": []
          },
          "execution_count": 67
        }
      ]
    },
    {
      "cell_type": "markdown",
      "metadata": {
        "id": "yoFnsScNzC0x"
      },
      "source": [
        "27 when multiplied by 2 yields 54, But when multiplied with a tuple the data is repeated twice."
      ]
    },
    {
      "cell_type": "code",
      "metadata": {
        "jupyter": {
          "outputs_hidden": false
        },
        "id": "cWYalHCpzC0x",
        "outputId": "2f850e63-427f-4499-9f18-20199a9389b1"
      },
      "source": [
        "2*(27,)"
      ],
      "execution_count": null,
      "outputs": [
        {
          "output_type": "execute_result",
          "data": {
            "text/plain": [
              "(27, 27)"
            ]
          },
          "metadata": {
            "tags": []
          },
          "execution_count": 68
        }
      ]
    },
    {
      "cell_type": "markdown",
      "metadata": {
        "id": "aKFRkMkzzC0y"
      },
      "source": [
        "Values can be assigned while declaring a tuple. It takes a list as input and converts it into a tuple or it takes a string and converts it into a tuple."
      ]
    },
    {
      "cell_type": "code",
      "metadata": {
        "jupyter": {
          "outputs_hidden": false
        },
        "scrolled": true,
        "id": "85MNdYUmzC0y",
        "outputId": "7445a096-7857-4539-8764-ab8f94ea30c0"
      },
      "source": [
        "tup3 = tuple([1,2,3])\n",
        "tup3"
      ],
      "execution_count": null,
      "outputs": [
        {
          "output_type": "execute_result",
          "data": {
            "text/plain": [
              "(1, 2, 3)"
            ]
          },
          "metadata": {
            "tags": []
          },
          "execution_count": 70
        }
      ]
    },
    {
      "cell_type": "code",
      "metadata": {
        "jupyter": {
          "outputs_hidden": false
        },
        "scrolled": true,
        "id": "S-BGMWUGzC0y",
        "outputId": "f28b3532-2cc1-47f4-f9ee-70f7e44b4be7"
      },
      "source": [
        "tup4 = tuple('Hello')\n",
        "tup4"
      ],
      "execution_count": null,
      "outputs": [
        {
          "output_type": "execute_result",
          "data": {
            "text/plain": [
              "('H', 'e', 'l', 'l', 'o')"
            ]
          },
          "metadata": {
            "tags": []
          },
          "execution_count": 71
        }
      ]
    },
    {
      "cell_type": "markdown",
      "metadata": {
        "id": "5xxiQrutzC0z"
      },
      "source": [
        "It follows the same indexing and slicing as Lists."
      ]
    },
    {
      "cell_type": "code",
      "metadata": {
        "jupyter": {
          "outputs_hidden": false
        },
        "id": "k7jRmUUizC0z",
        "outputId": "5aa2e509-8652-4c82-af93-bf9083d7206a"
      },
      "source": [
        "tup5 = tup4[:3]\n",
        "tup5"
      ],
      "execution_count": null,
      "outputs": [
        {
          "output_type": "execute_result",
          "data": {
            "text/plain": [
              "('H', 'e', 'l')"
            ]
          },
          "metadata": {
            "tags": []
          },
          "execution_count": 72
        }
      ]
    },
    {
      "cell_type": "markdown",
      "metadata": {
        "id": "L_HWZn7hzC00"
      },
      "source": [
        "## Sets"
      ]
    },
    {
      "cell_type": "markdown",
      "metadata": {
        "id": "ifVfZGQ4zC01"
      },
      "source": [
        "Sets are mainly used to eliminate repeated numbers in a sequence/list. It is also used to perform some standard set operations.\n",
        "\n",
        "Sets are declared as set() which will initialize a empty set. Also set([sequence]) can be executed to declare a set with elements"
      ]
    },
    {
      "cell_type": "code",
      "metadata": {
        "jupyter": {
          "outputs_hidden": false
        },
        "id": "zzFrxbn8zC01"
      },
      "source": [
        "set1 = set()"
      ],
      "execution_count": null,
      "outputs": []
    },
    {
      "cell_type": "code",
      "metadata": {
        "jupyter": {
          "outputs_hidden": false
        },
        "id": "KS2gYUxHzC01",
        "outputId": "4f140d13-933c-4bb7-dc70-4bcb251fe2dc"
      },
      "source": [
        "set0 = set([1,2,2,3,3,4])\n",
        "set0"
      ],
      "execution_count": null,
      "outputs": [
        {
          "output_type": "execute_result",
          "data": {
            "text/plain": [
              "{1, 2, 3, 4}"
            ]
          },
          "metadata": {
            "tags": []
          },
          "execution_count": 80
        }
      ]
    },
    {
      "cell_type": "markdown",
      "metadata": {
        "id": "ggEwHf1hzC01"
      },
      "source": [
        "elements 2,3 which are repeated twice are seen only once. Thus in a set each element is distinct."
      ]
    },
    {
      "cell_type": "markdown",
      "metadata": {
        "id": "hHb9lFqwzC01"
      },
      "source": [
        "### Built-in Functions"
      ]
    },
    {
      "cell_type": "code",
      "metadata": {
        "jupyter": {
          "outputs_hidden": false
        },
        "id": "VP8OfXf-zC01"
      },
      "source": [
        "set1 = set([1,2,3])"
      ],
      "execution_count": null,
      "outputs": []
    },
    {
      "cell_type": "code",
      "metadata": {
        "jupyter": {
          "outputs_hidden": false
        },
        "id": "9p9P9Co3zC01"
      },
      "source": [
        "set2 = set([2,3,4,5])"
      ],
      "execution_count": null,
      "outputs": []
    },
    {
      "cell_type": "markdown",
      "metadata": {
        "id": "Lu6ZA9mPzC02"
      },
      "source": [
        "**union( )** function returns a set which contains all the elements of both the sets without repition."
      ]
    },
    {
      "cell_type": "code",
      "metadata": {
        "jupyter": {
          "outputs_hidden": false
        },
        "id": "u27GnM0dzC02",
        "outputId": "7c524d22-9199-4c6e-957a-3ee9e032bf12"
      },
      "source": [
        "set1.union(set2)"
      ],
      "execution_count": null,
      "outputs": [
        {
          "output_type": "execute_result",
          "data": {
            "text/plain": [
              "{1, 2, 3, 4, 5}"
            ]
          },
          "metadata": {
            "tags": []
          },
          "execution_count": 83
        }
      ]
    },
    {
      "cell_type": "markdown",
      "metadata": {
        "id": "-bdR_UfHzC02"
      },
      "source": [
        "**intersection( )** function outputs a set which contains all the elements that are in both sets."
      ]
    },
    {
      "cell_type": "code",
      "metadata": {
        "jupyter": {
          "outputs_hidden": false
        },
        "id": "UAdbT7s_zC02",
        "outputId": "27a6d506-1f07-486a-c35f-36d9e3fbf7ce"
      },
      "source": [
        "set1.intersection(set2)"
      ],
      "execution_count": null,
      "outputs": [
        {
          "output_type": "execute_result",
          "data": {
            "text/plain": [
              "{2, 3}"
            ]
          },
          "metadata": {
            "tags": []
          },
          "execution_count": 85
        }
      ]
    },
    {
      "cell_type": "markdown",
      "metadata": {
        "id": "tzFkxrmuzC03"
      },
      "source": [
        "**difference( )** function ouptuts a set which contains elements that are in set1 and not in set2."
      ]
    },
    {
      "cell_type": "code",
      "metadata": {
        "jupyter": {
          "outputs_hidden": false
        },
        "id": "WUvXDkFqzC03",
        "outputId": "01308ac0-52b8-41d5-ea5c-7cf1ec04dcc5"
      },
      "source": [
        "set1.difference(set2)"
      ],
      "execution_count": null,
      "outputs": [
        {
          "output_type": "execute_result",
          "data": {
            "text/plain": [
              "{0, 1}"
            ]
          },
          "metadata": {
            "tags": []
          },
          "execution_count": 86
        }
      ]
    },
    {
      "cell_type": "markdown",
      "metadata": {
        "id": "n9UaDLU52REC"
      },
      "source": [
        "## Dictionaries"
      ]
    },
    {
      "cell_type": "markdown",
      "metadata": {
        "id": "ETfIW6sk2REC"
      },
      "source": [
        "Dictionaries are more used like a database because here you can index a particular sequence with your user defined string."
      ]
    },
    {
      "cell_type": "markdown",
      "metadata": {
        "id": "C0PdwOJ_2RED"
      },
      "source": [
        "To define a dictionary, equate a variable to { } or dict()"
      ]
    },
    {
      "cell_type": "code",
      "metadata": {
        "jupyter": {
          "outputs_hidden": false
        },
        "id": "4BC1vb1g2RED",
        "outputId": "da644192-897e-487d-cc33-c3cd4160b78f"
      },
      "source": [
        "d0 = {}\n",
        "d1 = dict()\n",
        "d0, d1"
      ],
      "execution_count": null,
      "outputs": [
        {
          "output_type": "execute_result",
          "data": {
            "text/plain": [
              "({}, {})"
            ]
          },
          "metadata": {
            "tags": []
          },
          "execution_count": 43
        }
      ]
    },
    {
      "cell_type": "markdown",
      "metadata": {
        "id": "b7RgD6452RED"
      },
      "source": [
        "Dictionary works somewhat like a list but with an added capability of assigning it's own index style."
      ]
    },
    {
      "cell_type": "code",
      "metadata": {
        "jupyter": {
          "outputs_hidden": false
        },
        "id": "w8LhlqSB2RED",
        "outputId": "2b2edf4a-5ca2-4b45-a338-6fdc97ba1b16"
      },
      "source": [
        "d0['One'] = 1\n",
        "d0['OneTwo'] = 12 \n",
        "d0"
      ],
      "execution_count": null,
      "outputs": [
        {
          "output_type": "execute_result",
          "data": {
            "text/plain": [
              "{'One': 1, 'OneTwo': 12}"
            ]
          },
          "metadata": {
            "tags": []
          },
          "execution_count": 44
        }
      ]
    },
    {
      "cell_type": "markdown",
      "metadata": {
        "id": "WlOkSCep2RED"
      },
      "source": [
        "That is how a dictionary looks like. Now you are able to access '1' by the index value set at 'One'"
      ]
    },
    {
      "cell_type": "code",
      "metadata": {
        "jupyter": {
          "outputs_hidden": false
        },
        "id": "C-KIyMj22REE",
        "outputId": "033651ad-4166-4ba7-c4e7-feb458ee2691"
      },
      "source": [
        "d0['One']"
      ],
      "execution_count": null,
      "outputs": [
        {
          "output_type": "execute_result",
          "data": {
            "text/plain": [
              "1"
            ]
          },
          "metadata": {
            "tags": []
          },
          "execution_count": 45
        }
      ]
    },
    {
      "cell_type": "markdown",
      "metadata": {
        "id": "xoJROKpC2REE"
      },
      "source": [
        "Two lists which are related can be merged to form a dictionary."
      ]
    },
    {
      "cell_type": "code",
      "metadata": {
        "jupyter": {
          "outputs_hidden": false
        },
        "id": "ztqO-Eb_2REE"
      },
      "source": [
        "names = ['One', 'Two', 'Three', 'Four', 'Five']\n",
        "numbers = [1, 2, 3, 4, 5]"
      ],
      "execution_count": null,
      "outputs": []
    },
    {
      "cell_type": "markdown",
      "metadata": {
        "id": "wDRPef3D2REE"
      },
      "source": [
        "**zip( )** function is used to combine two lists"
      ]
    },
    {
      "cell_type": "code",
      "metadata": {
        "jupyter": {
          "outputs_hidden": false
        },
        "id": "_LAkF0De2REE",
        "outputId": "c216e555-5a16-4802-bf6f-a5409c933f68"
      },
      "source": [
        "d2 = list(zip(names, numbers))\n",
        "d2"
      ],
      "execution_count": null,
      "outputs": [
        {
          "output_type": "execute_result",
          "data": {
            "text/plain": [
              "[('One', 1), ('Two', 2), ('Three', 3), ('Four', 4), ('Five', 5)]"
            ]
          },
          "metadata": {
            "tags": []
          },
          "execution_count": 52
        }
      ]
    },
    {
      "cell_type": "markdown",
      "metadata": {
        "id": "X9sqQm1J2REF"
      },
      "source": [
        "### Built-in Functions"
      ]
    },
    {
      "cell_type": "markdown",
      "metadata": {
        "id": "3P1baxmV2REF"
      },
      "source": [
        "**clear( )** function is used to erase the entire database that was created."
      ]
    },
    {
      "cell_type": "code",
      "metadata": {
        "jupyter": {
          "outputs_hidden": false
        },
        "id": "F-vvWsXa2REF",
        "outputId": "56fa3151-b9da-4c3f-9b97-cc3390d2b187"
      },
      "source": [
        "d1.clear()\n",
        "d1"
      ],
      "execution_count": null,
      "outputs": [
        {
          "output_type": "execute_result",
          "data": {
            "text/plain": [
              "{}"
            ]
          },
          "metadata": {
            "tags": []
          },
          "execution_count": 55
        }
      ]
    },
    {
      "cell_type": "markdown",
      "metadata": {
        "id": "nETSgPrx2REF"
      },
      "source": [
        "Dictionary can also be built using loops."
      ]
    },
    {
      "cell_type": "code",
      "metadata": {
        "jupyter": {
          "outputs_hidden": false
        },
        "id": "6BuTTci92REG",
        "outputId": "e62216cf-ad4e-4d6a-b9e4-f4f405cc9daf"
      },
      "source": [
        "for i in range(len(names)):\n",
        "    d1[names[i]] = numbers[i]\n",
        "d1"
      ],
      "execution_count": null,
      "outputs": [
        {
          "output_type": "execute_result",
          "data": {
            "text/plain": [
              "{'One': 1, 'Two': 2, 'Three': 3, 'Four': 4, 'Five': 5}"
            ]
          },
          "metadata": {
            "tags": []
          },
          "execution_count": 57
        }
      ]
    },
    {
      "cell_type": "markdown",
      "metadata": {
        "id": "RfBFypes2REG"
      },
      "source": [
        "**values( )** function returns a list with all the assigned values in the dictionary."
      ]
    },
    {
      "cell_type": "code",
      "metadata": {
        "jupyter": {
          "outputs_hidden": false
        },
        "id": "x9qNiSH42REG",
        "outputId": "2e42c9df-316c-4f4e-9133-36bc4362570f"
      },
      "source": [
        "d1.values()"
      ],
      "execution_count": null,
      "outputs": [
        {
          "output_type": "execute_result",
          "data": {
            "text/plain": [
              "dict_values([1, 2, 3, 4, 5])"
            ]
          },
          "metadata": {
            "tags": []
          },
          "execution_count": 58
        }
      ]
    },
    {
      "cell_type": "markdown",
      "metadata": {
        "id": "xvS44ed02REG"
      },
      "source": [
        "**keys( )** function returns all the index or the keys to which contains the values that it was assigned to."
      ]
    },
    {
      "cell_type": "code",
      "metadata": {
        "jupyter": {
          "outputs_hidden": false
        },
        "id": "ybLuFZgJ2REG",
        "outputId": "c4cdd9b5-9beb-401f-9c39-6492df836fc4"
      },
      "source": [
        "d1.keys()"
      ],
      "execution_count": null,
      "outputs": [
        {
          "output_type": "execute_result",
          "data": {
            "text/plain": [
              "dict_keys(['One', 'Two', 'Three', 'Four', 'Five'])"
            ]
          },
          "metadata": {
            "tags": []
          },
          "execution_count": 59
        }
      ]
    },
    {
      "cell_type": "markdown",
      "metadata": {
        "id": "gTM73zCE2REH"
      },
      "source": [
        "**items( )** is returns a list containing both the list but each element in the dictionary is inside a tuple. This is same as the result that was obtained when zip function was used."
      ]
    },
    {
      "cell_type": "code",
      "metadata": {
        "jupyter": {
          "outputs_hidden": false
        },
        "id": "ECAyD8Xk2REH",
        "outputId": "477a376c-b1ca-4148-93bf-bc694b1a3e68"
      },
      "source": [
        "d1.items()"
      ],
      "execution_count": null,
      "outputs": [
        {
          "output_type": "execute_result",
          "data": {
            "text/plain": [
              "dict_items([('One', 1), ('Two', 2), ('Three', 3), ('Four', 4), ('Five', 5)])"
            ]
          },
          "metadata": {
            "tags": []
          },
          "execution_count": 60
        }
      ]
    },
    {
      "cell_type": "markdown",
      "metadata": {
        "id": "o6OUzSh72REH"
      },
      "source": [
        "**pop( )** function is used to get the remove that particular element and this removed element can be assigned to a new variable. But remember only the value is stored and not the key. Because the is just a index value."
      ]
    },
    {
      "cell_type": "code",
      "metadata": {
        "jupyter": {
          "outputs_hidden": false
        },
        "id": "1ZEs0A5B2REH",
        "outputId": "aab97538-9afa-401e-dd0f-f6aeac1451bd"
      },
      "source": [
        "d2 = d1.pop('Four')\n",
        "d1, d2"
      ],
      "execution_count": null,
      "outputs": [
        {
          "output_type": "execute_result",
          "data": {
            "text/plain": [
              "({'One': 1, 'Two': 2, 'Three': 3, 'Five': 5}, 4)"
            ]
          },
          "metadata": {
            "tags": []
          },
          "execution_count": 62
        }
      ]
    },
    {
      "cell_type": "markdown",
      "metadata": {
        "id": "Sgp1Rlj3zC05"
      },
      "source": [
        "# Exercises"
      ]
    },
    {
      "cell_type": "code",
      "metadata": {
        "id": "9aLT2MKDzC05"
      },
      "source": [
        "# Make a list of all months of the year in order and assign that to the variable months\n"
      ],
      "execution_count": null,
      "outputs": []
    },
    {
      "cell_type": "code",
      "metadata": {
        "id": "K51NNkGs1brW"
      },
      "source": [
        "# Print the first 3 months of the year\n"
      ],
      "execution_count": null,
      "outputs": []
    },
    {
      "cell_type": "code",
      "metadata": {
        "id": "iGpOvkwe1bxR"
      },
      "source": [
        "# Make a list of the numbers 1 to 12\n"
      ],
      "execution_count": null,
      "outputs": []
    },
    {
      "cell_type": "code",
      "metadata": {
        "id": "AbEO-UkB3QlW"
      },
      "source": [
        "# Make a dictionary that maps from number to month name, e.g. {1: \"January\", ...}"
      ],
      "execution_count": null,
      "outputs": []
    }
  ]
}